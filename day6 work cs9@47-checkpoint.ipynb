{
 "cells": [
  {
   "cell_type": "markdown",
   "metadata": {},
   "source": [
    "#find the largest no's among three\n",
    "n1=int(input(\"enter the no\"))\n",
    "n2=int(input(\"enter the no\"))\n",
    "n3=int(input(\"enter the no\"))\n",
    "if n1>n2 and n1>n3:\n",
    "    print(\"n1 is largest\")\n",
    "elif n2>n1 and n2>n3:\n",
    "    print(\"n2 is largest\")\n",
    "else:\n",
    "    print(\"n3 is largest\")"
   ]
  },
  {
   "cell_type": "code",
   "execution_count": null,
   "metadata": {},
   "outputs": [],
   "source": []
  },
  {
   "cell_type": "code",
   "execution_count": 2,
   "metadata": {},
   "outputs": [
    {
     "name": "stdout",
     "output_type": "stream",
     "text": [
      "enter the year2007\n",
      "the year is not leap year\n"
     ]
    }
   ],
   "source": [
    "#check the leap year\n",
    "n1=int(input(\"enter the year\"))\n",
    "if n1%4==0 and n1%100==0:\n",
    "    print(\"the year is leap year\")\n",
    "else:\n",
    "    print(\"the year is not leap year\")"
   ]
  },
  {
   "cell_type": "code",
   "execution_count": 4,
   "metadata": {},
   "outputs": [
    {
     "name": "stdout",
     "output_type": "stream",
     "text": [
      "gitam\n",
      "gitam\n",
      "gitam\n",
      "gitam\n",
      "gitam\n"
     ]
    }
   ],
   "source": [
    "#print gitam five times\n",
    "x=0\n",
    "while x<5:\n",
    "    print(\"gitam\")\n",
    "    x=x+1"
   ]
  },
  {
   "cell_type": "code",
   "execution_count": 9,
   "metadata": {},
   "outputs": [
    {
     "name": "stdout",
     "output_type": "stream",
     "text": [
      "enter the no10\n",
      "0\n",
      "1\n",
      "2\n",
      "3\n",
      "4\n",
      "5\n",
      "6\n",
      "7\n",
      "8\n",
      "9\n"
     ]
    }
   ],
   "source": [
    "#print n natural no's using while loop\n",
    "n1=int(input(\"enter the no\"))\n",
    "i=0\n",
    "while i<n1:\n",
    "    print(i)\n",
    "    i=i+1\n",
    "    "
   ]
  },
  {
   "cell_type": "code",
   "execution_count": 2,
   "metadata": {},
   "outputs": [
    {
     "name": "stdout",
     "output_type": "stream",
     "text": [
      "Enter the end of range: 10\n",
      "0 2 4 6 8 10 "
     ]
    }
   ],
   "source": [
    "#print even no's\n",
    "end = int(input(\"Enter the end of range: \")) \n",
    "for num in range( end + 1):  \n",
    "    if num % 2 == 0: \n",
    "        print(num, end = \" \") "
   ]
  },
  {
   "cell_type": "markdown",
   "metadata": {},
   "source": []
  },
  {
   "cell_type": "code",
   "execution_count": 11,
   "metadata": {},
   "outputs": [
    {
     "name": "stdout",
     "output_type": "stream",
     "text": [
      "Enter the end of range: 10\n",
      "1 3 5 7 9 "
     ]
    }
   ],
   "source": [
    "# print odd no's\n",
    "end = int(input(\"Enter the end of range: \")) \n",
    "for num in range( end + 1):  \n",
    "    if num%2!= 0: \n",
    "        print(num, end = \" \") "
   ]
  },
  {
   "cell_type": "code",
   "execution_count": 5,
   "metadata": {},
   "outputs": [
    {
     "name": "stdout",
     "output_type": "stream",
     "text": [
      "enter the no3\n",
      "enter the no9\n",
      "enter the no5\n",
      "n2 is largest\n"
     ]
    }
   ],
   "source": [
    "#largest no's among three\n",
    "n1=int(input(\"enter the no\"))\n",
    "n2=int(input(\"enter the no\")) \n",
    "n3=int(input(\"enter the no\"))\n",
    "if n1>n2 and n1>n3:\n",
    "    print(\"n1 is largest\")\n",
    "elif n2>n1 and n2>n3: \n",
    "    print(\"n2 is largest\")\n",
    "else:\n",
    "    print(\"n3 is largest\")"
   ]
  },
  {
   "cell_type": "markdown",
   "metadata": {},
   "source": []
  },
  {
   "cell_type": "code",
   "execution_count": 12,
   "metadata": {},
   "outputs": [
    {
     "name": "stdout",
     "output_type": "stream",
     "text": [
      "enter the no234\n",
      "4 3 2 "
     ]
    }
   ],
   "source": [
    "#palindrome\n",
    "n1=int(input(\"enter the no\"))\n",
    "while n1!=0:\n",
    "    x=n1%10\n",
    "    print(x,end=\" \")\n",
    "    n1=n1//10"
   ]
  },
  {
   "cell_type": "code",
   "execution_count": 16,
   "metadata": {},
   "outputs": [
    {
     "data": {
      "text/plain": [
       "9"
      ]
     },
     "execution_count": 16,
     "metadata": {},
     "output_type": "execute_result"
    }
   ],
   "source": [
    "#printing the larger digit among the given number\n",
    "def printlarge(n):\n",
    "    large=0\n",
    "    while n!=0:\n",
    "        r=n%10\n",
    "        if large<r:\n",
    "            large=r\n",
    "        n=n//10\n",
    "    return large\n",
    "printlarge(18953)"
   ]
  },
  {
   "cell_type": "code",
   "execution_count": 27,
   "metadata": {},
   "outputs": [
    {
     "data": {
      "text/plain": [
       "321"
      ]
     },
     "execution_count": 27,
     "metadata": {},
     "output_type": "execute_result"
    }
   ],
   "source": [
    "#real number input\n",
    "#output reverse of a given number\n",
    "def reversenumber(n):\n",
    "    rev=0\n",
    "    while n!=0:\n",
    "        x=n%10\n",
    "        rev=(rev*10)+x\n",
    "        n=n//10\n",
    "    return(rev)\n",
    "reversenumber(123)"
   ]
  },
  {
   "cell_type": "code",
   "execution_count": 49,
   "metadata": {},
   "outputs": [
    {
     "name": "stdout",
     "output_type": "stream",
     "text": [
      "no\n",
      "yes\n"
     ]
    }
   ],
   "source": [
    "def ispalindrome(n):\n",
    "    rev=0\n",
    "    buffer = n\n",
    "    while n !=0:\n",
    "        r = n%10\n",
    "        rev = rev*10+r\n",
    "        n = n//10\n",
    "    if buffer == rev:\n",
    "        return \"yes\"\n",
    "    else:\n",
    "        return \"no\"\n",
    "print(ispalindrome(123))\n",
    "print(ispalindrome(121))"
   ]
  },
  {
   "cell_type": "code",
   "execution_count": 58,
   "metadata": {},
   "outputs": [
    {
     "name": "stdout",
     "output_type": "stream",
     "text": [
      "10 11 12 13 14 15 16 17 18 19 20 "
     ]
    }
   ],
   "source": [
    "#for loop for the natural numbers\n",
    "def printnaturalnumbers(n,x):\n",
    "    for x in range(n,x+1):\n",
    "        print(x,end=' ')\n",
    "    return\n",
    "printnaturalnumbers(10,20)"
   ]
  },
  {
   "cell_type": "code",
   "execution_count": 59,
   "metadata": {},
   "outputs": [
    {
     "name": "stdout",
     "output_type": "stream",
     "text": [
      "1 2 3 4 5 6 7 8 9 10 "
     ]
    }
   ],
   "source": [
    "def printnaturalnumbers(n):\n",
    "    for x in range(1,n+1):\n",
    "        print(x,end=' ')\n",
    "    return\n",
    "printnaturalnumbers(10)"
   ]
  },
  {
   "cell_type": "code",
   "execution_count": 60,
   "metadata": {},
   "outputs": [
    {
     "name": "stdout",
     "output_type": "stream",
     "text": [
      "10 13 16 19 "
     ]
    }
   ],
   "source": [
    "def printnaturalnumbers(n,x):\n",
    "    for x in range(n,x+1,3):\n",
    "        print(x,end=' ')\n",
    "    return\n",
    "printnaturalnumbers(10,20)"
   ]
  },
  {
   "cell_type": "code",
   "execution_count": 8,
   "metadata": {},
   "outputs": [
    {
     "name": "stdout",
     "output_type": "stream",
     "text": [
      "20 19 18 17 16 15 14 13 12 11 10 "
     ]
    }
   ],
   "source": [
    "def reversenumber(n,x):\n",
    "    for x in range(x,n-1,-1):\n",
    "        print(x,end=' ')\n",
    "    return\n",
    "reversenumber(10,20)"
   ]
  },
  {
   "cell_type": "code",
   "execution_count": 4,
   "metadata": {},
   "outputs": [
    {
     "name": "stdout",
     "output_type": "stream",
     "text": [
      "15 14 13 12 11 10 9 8 7 6 5 4 3 2 1 "
     ]
    }
   ],
   "source": [
    "def reverserange(start,end):\n",
    "    for x in range(end,start-1,-1):\n",
    "        print(x,end = \" \")\n",
    "    return\n",
    "reverserange(1,15)"
   ]
  },
  {
   "cell_type": "code",
   "execution_count": null,
   "metadata": {},
   "outputs": [],
   "source": []
  }
 ],
 "metadata": {
  "kernelspec": {
   "display_name": "Python 3",
   "language": "python",
   "name": "python3"
  },
  "language_info": {
   "codemirror_mode": {
    "name": "ipython",
    "version": 3
   },
   "file_extension": ".py",
   "mimetype": "text/x-python",
   "name": "python",
   "nbconvert_exporter": "python",
   "pygments_lexer": "ipython3",
   "version": "3.7.3"
  }
 },
 "nbformat": 4,
 "nbformat_minor": 2
}
