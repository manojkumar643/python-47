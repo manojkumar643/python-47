{
 "cells": [
  {
   "cell_type": "markdown",
   "metadata": {},
   "source": [
    "### Funtion to return to count of palindrome number two limits"
   ]
  },
  {
   "cell_type": "code",
   "execution_count": null,
   "metadata": {},
   "outputs": [],
   "source": [
    "def countpalindrome(lb,ub):\n",
    "    count=0\n",
    "    for a in range(lb,ub):\n",
    "        rev=0\n",
    "        temp=a\n",
    "        while a>0:\n",
    "            x=a%10\n",
    "            rev=rev*10+x\n",
    "            a=a//10\n",
    "            if temp==rev:\n",
    "                count=count+1\n",
    "               \n",
    "    return count\n",
    "countpalindrome(1,20)\n"
   ]
  }
 ],
 "metadata": {
  "kernelspec": {
   "display_name": "Python 3",
   "language": "python",
   "name": "python3"
  },
  "language_info": {
   "codemirror_mode": {
    "name": "ipython",
    "version": 3
   },
   "file_extension": ".py",
   "mimetype": "text/x-python",
   "name": "python",
   "nbconvert_exporter": "python",
   "pygments_lexer": "ipython3",
   "version": "3.7.3"
  }
 },
 "nbformat": 4,
 "nbformat_minor": 2
}
