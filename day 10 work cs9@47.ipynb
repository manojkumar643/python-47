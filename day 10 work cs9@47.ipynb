{
 "cells": [
  {
   "cell_type": "markdown",
   "metadata": {},
   "source": [
    "### standard libraries\n",
    "- file I/O\n",
    "- regular expressions\n",
    "- datetime\n",
    "- math(numerical and mathematical)\n",
    "\n"
   ]
  },
  {
   "cell_type": "markdown",
   "metadata": {},
   "source": [
    "### file handling in python\n",
    "- file--document containing information resides on the permanent storage\n",
    "- different types of files:-txt,docs,pdfs"
   ]
  },
  {
   "cell_type": "markdown",
   "metadata": {},
   "source": [
    "### modes of the file I/O\n",
    "- w--this mode is used for file writing\n",
    "--- if the file is not present first it creates a file and write so me data to it\n",
    "--- if the file is already present rewrite the previous data"
   ]
  },
  {
   "cell_type": "code",
   "execution_count": 5,
   "metadata": {},
   "outputs": [
    {
     "name": "stdout",
     "output_type": "stream",
     "text": [
      "file is created and data had been written\n"
     ]
    }
   ],
   "source": [
    "#function to create a file and write to the file \n",
    "def createfile(filename):\n",
    "    f=open(filename,\"w\")\n",
    "    for i in range(10):\n",
    "        f.write(\"this is %d line\"%i)\n",
    "    print(\"file is created and data had been written\")\n",
    "    return\n",
    "createfile(\"file.txt\")"
   ]
  },
  {
   "cell_type": "code",
   "execution_count": 6,
   "metadata": {},
   "outputs": [
    {
     "name": "stdout",
     "output_type": "stream",
     "text": [
      " Volume in drive C has no label.\n",
      " Volume Serial Number is F86F-DE24\n",
      "\n",
      " Directory of C:\\Users\\203\n",
      "\n",
      "11-07-2019  09:49    <DIR>          .\n",
      "11-07-2019  09:49    <DIR>          ..\n",
      "08-05-2019  10:38    <DIR>          .anaconda\n",
      "17-03-2017  10:42               145 .appletviewer\n",
      "21-05-2019  14:31                25 .bash_history\n",
      "02-11-2017  21:24                 0 .cdtclient\n",
      "24-06-2019  21:50    <DIR>          .conda\n",
      "24-06-2019  14:38                43 .condarc\n",
      "21-05-2019  11:53                67 .gitconfig\n",
      "29-06-2019  10:34    <DIR>          .idlerc\n",
      "11-07-2019  09:08    <DIR>          .ipynb_checkpoints\n",
      "08-05-2019  10:42    <DIR>          .ipython\n",
      "15-05-2019  14:14    <DIR>          .jupyter\n",
      "18-05-2019  11:15    <DIR>          .matplotlib\n",
      "15-11-2018  14:00    <DIR>          .oracle_jre_usage\n",
      "06-07-2019  10:55             4,478 06-07-2019(2).ipynb\n",
      "06-07-2019  10:10        66,682,924 06-07-2019.ipynb\n",
      "06-07-2019  12:43             4,016 06-july-2019.ipynb\n",
      "12-05-2019  10:56             7,774 11 day 4 python.ipynb\n",
      "12-05-2019  14:36             1,446 12 DAY 5.ipynb\n",
      "14-05-2019  12:20             3,075 14th may day 11.ipynb\n",
      "15-05-2019  15:47             5,515 15th may 2k19.ipynb\n",
      "16-05-2019  17:06            17,767 16th may 19.ipynb\n",
      "17-05-2019  11:56             9,739 17th may 2k19.ipynb\n",
      "21-05-2019  15:03             1,562 21 may 2019.ipynb\n",
      "09-05-2019  14:43             9,207 8th may  2k19.ipynb\n",
      "08-05-2019  10:35    <DIR>          Anaconda3\n",
      "10-07-2019  16:46             6,561 assignment que.ipynb\n",
      "22-11-2016  04:13    <DIR>          Contacts\n",
      "11-07-2019  09:49             7,556 day 10 work cs9@47.ipynb\n",
      "10-05-2019  17:00            13,057 DAY 3 PYTHON.ipynb\n",
      "16-05-2019  11:39            13,057 DAY 3 PYTHON-Copy1.ipynb\n",
      "13-05-2019  16:29             6,796 day 4 may 12 2019 (3) (3).ipynb\n",
      "11-07-2019  09:15            21,716 day 9 work cs9@47.ipynb\n",
      "16-05-2019  11:39             9,846 day-2 (python programs)-Copy1.ipynb\n",
      "10-07-2019  17:06             7,376 day9 cs9 assingment.ipynb\n",
      "06-07-2019  16:57    <DIR>          Desktop\n",
      "06-07-2019  16:01    <DIR>          Documents\n",
      "13-05-2019  16:28    <DIR>          Downloads\n",
      "22-11-2016  04:13    <DIR>          Favorites\n",
      "11-07-2019  09:53               140 file.txt\n",
      "21-05-2019  14:30                 0 file10.txt\n",
      "21-05-2019  14:30                 0 file2.txt\n",
      "21-05-2019  14:30                 0 file3.txt\n",
      "21-05-2019  14:30                 0 file4.txt\n",
      "21-05-2019  14:30                 0 file5.txt\n",
      "21-05-2019  14:30                 0 file6.txt\n",
      "21-05-2019  14:30                 0 file7.txt\n",
      "21-05-2019  14:30                 0 file8.txt\n",
      "21-05-2019  14:30                 0 file9.txt\n",
      "22-11-2016  04:13    <DIR>          Links\n",
      "22-11-2016  04:13    <DIR>          Music\n",
      "27-11-2018  10:59    <DIR>          Pictures\n",
      "08-05-2019  16:06             7,088 PR-1.ipynb\n",
      "16-05-2019  11:39             7,088 PR-1-Copy1.ipynb\n",
      "16-05-2019  12:08                 0 pyhtonnotebook\n",
      "16-05-2019  12:27    <DIR>          Python\n",
      "22-11-2016  04:13    <DIR>          Saved Games\n",
      "17-03-2017  13:52    <DIR>          Searches\n",
      "10-05-2019  10:25               887 TEMPLE.ipynb\n",
      "16-05-2019  11:39               887 TEMPLE-Copy1.ipynb\n",
      "08-05-2019  15:35               652 Templet.ipynb\n",
      "16-05-2019  11:39               652 Templet-Copy1.ipynb\n",
      "16-05-2019  12:15                 0 untitled\n",
      "11-05-2019  09:57             3,146 Untitled.ipynb\n",
      "18-05-2019  16:22               555 Untitled1.ipynb\n",
      "13-05-2019  09:52             1,575 Untitled2.ipynb\n",
      "08-05-2019  14:27               555 Untitled3.ipynb\n",
      "12-05-2019  09:37             1,729 Untitled4.ipynb\n",
      "12-05-2019  09:42               555 Untitled5.ipynb\n",
      "15-05-2019  10:20               513 Untitled6.ipynb\n",
      "17-05-2019  10:48                72 Untitled7.ipynb\n",
      "21-06-2019  20:49               555 Untitled8.ipynb\n",
      "21-06-2019  21:56             1,027 Untitled9.ipynb\n",
      "05-12-2018  09:40    <DIR>          Videos\n",
      "              52 File(s)     66,861,424 bytes\n",
      "              23 Dir(s)  50,525,294,592 bytes free\n"
     ]
    }
   ],
   "source": [
    "ls"
   ]
  },
  {
   "cell_type": "code",
   "execution_count": 8,
   "metadata": {},
   "outputs": [
    {
     "name": "stdout",
     "output_type": "stream",
     "text": [
      "file is created and data had been written\n"
     ]
    }
   ],
   "source": [
    "#function to create a file and write to the file \n",
    "def createfile(filename):\n",
    "    f=open(filename,\"w\")\n",
    "    f.write(\"texting....\\n\")\n",
    "    print(\"file is created and data had been written\")\n",
    "    return\n",
    "createfile(\"file.txt\")"
   ]
  },
  {
   "cell_type": "code",
   "execution_count": 12,
   "metadata": {},
   "outputs": [
    {
     "name": "stdout",
     "output_type": "stream",
     "text": [
      "file created and succesfully data written\n"
     ]
    }
   ],
   "source": [
    "def appenddata(filename):\n",
    "    f=open(filename,\"a\")\n",
    "    for i in range(10):\n",
    "        f.write(\"this is %d line\"%i)\n",
    "    print(\"file created and succesfully data written\")\n",
    "    return\n",
    "appenddata(\"file11.txt\")"
   ]
  },
  {
   "cell_type": "code",
   "execution_count": 18,
   "metadata": {},
   "outputs": [
    {
     "name": "stdout",
     "output_type": "stream",
     "text": [
      "This is 0 line\n",
      "This is 1 line\n",
      "This is 2 line\n",
      "This is 3 line\n",
      "This is 4 line\n",
      "This is 5 line\n",
      "This is 6 line\n",
      "This is 7 line\n",
      "This is 8 line\n",
      "This is 9 line\n",
      "file created and succesfully data written\n"
     ]
    }
   ],
   "source": [
    "def appenddata(filename):\n",
    "    f=open(filename,\"a\")\n",
    "    for i in range(10):\n",
    "        print(\"This is %d line\"%i)\n",
    "    print(\"file created and succesfully data written\")\n",
    "    return\n",
    "appenddata(\"file11.txt\")"
   ]
  },
  {
   "cell_type": "code",
   "execution_count": 25,
   "metadata": {},
   "outputs": [
    {
     "name": "stdout",
     "output_type": "stream",
     "text": [
      "file created and succesfully data written\n"
     ]
    }
   ],
   "source": [
    "def appenddata(filename):\n",
    "    f=open(filename,\"a\")\n",
    "    for i in range(10):\n",
    "        f.write(\"newline1 \\n\")\n",
    "        f.write(\"newline2 \\n\")\n",
    "    print(\"file created and succesfully data written\")\n",
    "    return\n",
    "appenddata(\"file33.txt\")"
   ]
  },
  {
   "cell_type": "code",
   "execution_count": 29,
   "metadata": {},
   "outputs": [
    {
     "name": "stdout",
     "output_type": "stream",
     "text": [
      "newline1 \n",
      "newline2 \n",
      "newline1 \n",
      "newline2 \n",
      "newline1 \n",
      "newline2 \n",
      "newline1 \n",
      "newline2 \n",
      "newline1 \n",
      "newline2 \n",
      "newline1 \n",
      "newline2 \n",
      "newline1 \n",
      "newline2 \n",
      "newline1 \n",
      "newline2 \n",
      "newline1 \n",
      "newline2 \n",
      "newline1 \n",
      "newline2 \n",
      "\n"
     ]
    }
   ],
   "source": [
    "#function to read the file \n",
    "def readfiledata(filename):\n",
    "    f=open(filename,\"r\")\n",
    "    if f.mode==\"r\":\n",
    "        x=f.read()\n",
    "        print(x)\n",
    "    f.close()\n",
    "    return\n",
    "readfiledata(\"file33.txt\")"
   ]
  },
  {
   "cell_type": "code",
   "execution_count": 30,
   "metadata": {},
   "outputs": [
    {
     "name": "stdout",
     "output_type": "stream",
     "text": [
      "enter the filenamefile33.txt\n",
      "enter the mode of the filer\n",
      "newline1 \n",
      "newline2 \n",
      "newline1 \n",
      "newline2 \n",
      "newline1 \n",
      "newline2 \n",
      "newline1 \n",
      "newline2 \n",
      "newline1 \n",
      "newline2 \n",
      "newline1 \n",
      "newline2 \n",
      "newline1 \n",
      "newline2 \n",
      "newline1 \n",
      "newline2 \n",
      "newline1 \n",
      "newline2 \n",
      "newline1 \n",
      "newline2 \n",
      "\n"
     ]
    }
   ],
   "source": [
    "#function to read the file data\n",
    "def fileoperations2(filename,mode):\n",
    "    with open(filename,mode) as f:\n",
    "        if f.mode=='r':\n",
    "            data=f.read()\n",
    "            print(data)\n",
    "        elif f.mode=='a':\n",
    "            f.write('data to the file')\n",
    "            print('the data successfully written')\n",
    "    f.close()\n",
    "    return\n",
    "filename=input('enter the filename')\n",
    "mode=input('enter the mode of the file')\n",
    "fileoperations2(filename,mode)\n"
   ]
  },
  {
   "cell_type": "code",
   "execution_count": 33,
   "metadata": {},
   "outputs": [
    {
     "name": "stdout",
     "output_type": "stream",
     "text": [
      "enter the filename:file33.txt\n",
      "enter the word:newline1\n"
     ]
    },
    {
     "data": {
      "text/plain": [
       "10"
      ]
     },
     "execution_count": 33,
     "metadata": {},
     "output_type": "execute_result"
    }
   ],
   "source": [
    "#data analysis\n",
    "#word count program\n",
    "def wordcount(filename,word):\n",
    "    with open(filename,'r') as f:\n",
    "        if f.mode=='r':\n",
    "            x=f.read()\n",
    "            li=x.split() #it splits the string\n",
    "    cnt = li.count(word)        \n",
    "    return cnt\n",
    "filename=input(\"enter the filename:\")\n",
    "word=input(\"enter the word:\")\n",
    "wordcount(filename,word) "
   ]
  },
  {
   "cell_type": "code",
   "execution_count": 2,
   "metadata": {},
   "outputs": [
    {
     "name": "stdout",
     "output_type": "stream",
     "text": [
      "enter the filenamefile33.txt\n"
     ]
    },
    {
     "data": {
      "text/plain": [
       "200"
      ]
     },
     "execution_count": 2,
     "metadata": {},
     "output_type": "execute_result"
    }
   ],
   "source": [
    "#charecter count from the given file\n",
    "def charactercount(filename):\n",
    "    with open(filename,'r') as f:\n",
    "         if f.mode=='r':\n",
    "            x=f.read()\n",
    "            li=list(x)#convert the string -char\n",
    "    return len(li)\n",
    "filename=input(\"enter the filename\")\n",
    "charactercount(filename)"
   ]
  },
  {
   "cell_type": "code",
   "execution_count": 4,
   "metadata": {},
   "outputs": [
    {
     "name": "stdout",
     "output_type": "stream",
     "text": [
      "enter the filename:file33.txt\n"
     ]
    },
    {
     "data": {
      "text/plain": [
       "21"
      ]
     },
     "execution_count": 4,
     "metadata": {},
     "output_type": "execute_result"
    }
   ],
   "source": [
    "#function tp find the no of lines in the input\n",
    "def countofline(filename):\n",
    "    with open(filename,\"r\") as f:\n",
    "        if f.mode=='r':\n",
    "            x=f.read()\n",
    "            li=x.split(\"\\n\")\n",
    "    return len(li)\n",
    "filename=input('enter the filename:')\n",
    "countofline(filename)\n"
   ]
  },
  {
   "cell_type": "code",
   "execution_count": 26,
   "metadata": {},
   "outputs": [
    {
     "name": "stdout",
     "output_type": "stream",
     "text": [
      "enter the file name:file33.txt\n"
     ]
    },
    {
     "data": {
      "text/plain": [
       "'uppercase=140,lowercase=1540'"
      ]
     },
     "execution_count": 26,
     "metadata": {},
     "output_type": "execute_result"
    }
   ],
   "source": [
    "def casecount(filename):\n",
    "    cntupper=0\n",
    "    cntlower=0\n",
    "    with open(filename,'r')as f:\n",
    "        if f.mode=='r':\n",
    "            x=f.read()\n",
    "            li=list(x)\n",
    "    for i in li:\n",
    "        if i.isupper():\n",
    "            cntupper+=1\n",
    "        elif i.islower():\n",
    "            cntlower+=1\n",
    "    output='uppercase={0},lowercase={1}'.format(cntupper,cntlower)\n",
    "    return output\n",
    "filename=input(\"enter the file name:\")\n",
    "casecount(filename)"
   ]
  },
  {
   "cell_type": "markdown",
   "metadata": {},
   "source": [
    "### math,random,os\n",
    "- os package it contains methods which work with os"
   ]
  },
  {
   "cell_type": "code",
   "execution_count": 31,
   "metadata": {},
   "outputs": [
    {
     "name": "stdout",
     "output_type": "stream",
     "text": [
      "C:\\Users\\203\n"
     ]
    }
   ],
   "source": [
    "cd"
   ]
  },
  {
   "cell_type": "code",
   "execution_count": 32,
   "metadata": {},
   "outputs": [
    {
     "data": {
      "text/plain": [
       "'C:\\\\Users\\\\203'"
      ]
     },
     "execution_count": 32,
     "metadata": {},
     "output_type": "execute_result"
    }
   ],
   "source": [
    "pwd"
   ]
  },
  {
   "cell_type": "markdown",
   "metadata": {},
   "source": [
    "# creating a single directory"
   ]
  },
  {
   "cell_type": "code",
   "execution_count": 35,
   "metadata": {},
   "outputs": [],
   "source": [
    "import os\n",
    "os.mkdir('singledirectory')"
   ]
  },
  {
   "cell_type": "code",
   "execution_count": 46,
   "metadata": {},
   "outputs": [],
   "source": [
    "import pathlib\n",
    "p = pathlib.Path('gitam-python')\n",
    "p.mkdir()"
   ]
  },
  {
   "cell_type": "code",
   "execution_count": 41,
   "metadata": {},
   "outputs": [
    {
     "name": "stdout",
     "output_type": "stream",
     "text": [
      " Volume in drive C has no label.\n",
      " Volume Serial Number is F86F-DE24\n",
      "\n",
      " Directory of C:\\Users\\203\n",
      "\n",
      "11-07-2019  14:49    <DIR>          .\n",
      "11-07-2019  14:49    <DIR>          ..\n",
      "08-05-2019  10:38    <DIR>          .anaconda\n",
      "17-03-2017  10:42               145 .appletviewer\n",
      "21-05-2019  14:31                25 .bash_history\n",
      "02-11-2017  21:24                 0 .cdtclient\n",
      "24-06-2019  21:50    <DIR>          .conda\n",
      "24-06-2019  14:38                43 .condarc\n",
      "21-05-2019  11:53                67 .gitconfig\n",
      "29-06-2019  10:34    <DIR>          .idlerc\n",
      "11-07-2019  09:08    <DIR>          .ipynb_checkpoints\n",
      "08-05-2019  10:42    <DIR>          .ipython\n",
      "15-05-2019  14:14    <DIR>          .jupyter\n",
      "18-05-2019  11:15    <DIR>          .matplotlib\n",
      "15-11-2018  14:00    <DIR>          .oracle_jre_usage\n",
      "06-07-2019  10:55             4,478 06-07-2019(2).ipynb\n",
      "06-07-2019  10:10        66,682,924 06-07-2019.ipynb\n",
      "06-07-2019  12:43             4,016 06-july-2019.ipynb\n",
      "12-05-2019  10:56             7,774 11 day 4 python.ipynb\n",
      "12-05-2019  14:36             1,446 12 DAY 5.ipynb\n",
      "14-05-2019  12:20             3,075 14th may day 11.ipynb\n",
      "15-05-2019  15:47             5,515 15th may 2k19.ipynb\n",
      "16-05-2019  17:06            17,767 16th may 19.ipynb\n",
      "17-05-2019  11:56             9,739 17th may 2k19.ipynb\n",
      "21-05-2019  15:03             1,562 21 may 2019.ipynb\n",
      "09-05-2019  14:43             9,207 8th may  2k19.ipynb\n",
      "08-05-2019  10:35    <DIR>          Anaconda3\n",
      "10-07-2019  16:46             6,561 assignment que.ipynb\n",
      "22-11-2016  04:13    <DIR>          Contacts\n",
      "11-07-2019  14:49            21,520 day 10 work cs9@47.ipynb\n",
      "10-05-2019  17:00            13,057 DAY 3 PYTHON.ipynb\n",
      "16-05-2019  11:39            13,057 DAY 3 PYTHON-Copy1.ipynb\n",
      "13-05-2019  16:29             6,796 day 4 may 12 2019 (3) (3).ipynb\n",
      "11-07-2019  09:15            21,716 day 9 work cs9@47.ipynb\n",
      "16-05-2019  11:39             9,846 day-2 (python programs)-Copy1.ipynb\n",
      "10-07-2019  17:06             7,376 day9 cs9 assingment.ipynb\n",
      "06-07-2019  16:57    <DIR>          Desktop\n",
      "06-07-2019  16:01    <DIR>          Documents\n",
      "13-05-2019  16:28    <DIR>          Downloads\n",
      "22-11-2016  04:13    <DIR>          Favorites\n",
      "11-07-2019  09:54                13 file.txt\n",
      "21-05-2019  14:30                 0 file10.txt\n",
      "11-07-2019  10:04               360 file11.txt\n",
      "11-07-2019  10:13               440 file2.txt\n",
      "11-07-2019  10:12               440 file22.txt\n",
      "21-05-2019  14:30                 0 file3.txt\n",
      "11-07-2019  12:21             2,640 file33.txt\n",
      "21-05-2019  14:30                 0 file4.txt\n",
      "21-05-2019  14:30                 0 file5.txt\n",
      "21-05-2019  14:30                 0 file6.txt\n",
      "21-05-2019  14:30                 0 file7.txt\n",
      "21-05-2019  14:30                 0 file8.txt\n",
      "21-05-2019  14:30                 0 file9.txt\n",
      "22-11-2016  04:13    <DIR>          Links\n",
      "22-11-2016  04:13    <DIR>          Music\n",
      "27-11-2018  10:59    <DIR>          Pictures\n",
      "08-05-2019  16:06             7,088 PR-1.ipynb\n",
      "16-05-2019  11:39             7,088 PR-1-Copy1.ipynb\n",
      "16-05-2019  12:08                 0 pyhtonnotebook\n",
      "16-05-2019  12:27    <DIR>          Python\n",
      "22-11-2016  04:13    <DIR>          Saved Games\n",
      "17-03-2017  13:52    <DIR>          Searches\n",
      "11-07-2019  14:47    <DIR>          singledirectory\n",
      "10-05-2019  10:25               887 TEMPLE.ipynb\n",
      "16-05-2019  11:39               887 TEMPLE-Copy1.ipynb\n",
      "08-05-2019  15:35               652 Templet.ipynb\n",
      "16-05-2019  11:39               652 Templet-Copy1.ipynb\n",
      "11-07-2019  14:49    <DIR>          Testfolder\n",
      "16-05-2019  12:15                 0 untitled\n",
      "11-05-2019  09:57             3,146 Untitled.ipynb\n",
      "18-05-2019  16:22               555 Untitled1.ipynb\n",
      "13-05-2019  09:52             1,575 Untitled2.ipynb\n",
      "08-05-2019  14:27               555 Untitled3.ipynb\n",
      "12-05-2019  09:37             1,729 Untitled4.ipynb\n",
      "12-05-2019  09:42               555 Untitled5.ipynb\n",
      "15-05-2019  10:20               513 Untitled6.ipynb\n",
      "17-05-2019  10:48                72 Untitled7.ipynb\n",
      "21-06-2019  20:49               555 Untitled8.ipynb\n",
      "21-06-2019  21:56             1,027 Untitled9.ipynb\n",
      "05-12-2018  09:40    <DIR>          Videos\n",
      "              55 File(s)     66,879,141 bytes\n",
      "              25 Dir(s)  50,206,953,472 bytes free\n"
     ]
    }
   ],
   "source": [
    "ls"
   ]
  },
  {
   "cell_type": "code",
   "execution_count": 44,
   "metadata": {},
   "outputs": [
    {
     "name": "stdout",
     "output_type": "stream",
     "text": [
      "C:\\Users\\203\\git\n"
     ]
    }
   ],
   "source": [
    "cd git"
   ]
  },
  {
   "cell_type": "code",
   "execution_count": 47,
   "metadata": {},
   "outputs": [
    {
     "name": "stdout",
     "output_type": "stream",
     "text": [
      "C:\\Users\\203\\git\\gitam-python\n"
     ]
    }
   ],
   "source": [
    "cd gitam-python"
   ]
  },
  {
   "cell_type": "code",
   "execution_count": 48,
   "metadata": {},
   "outputs": [
    {
     "data": {
      "text/plain": [
       "'C:\\\\Users\\\\203\\\\git\\\\gitam-python'"
      ]
     },
     "execution_count": 48,
     "metadata": {},
     "output_type": "execute_result"
    }
   ],
   "source": [
    "pwd"
   ]
  },
  {
   "cell_type": "code",
   "execution_count": 49,
   "metadata": {},
   "outputs": [
    {
     "name": "stdout",
     "output_type": "stream",
     "text": [
      " Volume in drive C has no label.\n",
      " Volume Serial Number is F86F-DE24\n",
      "\n",
      " Directory of C:\\Users\\203\\git\\gitam-python\n",
      "\n",
      "11-07-2019  14:55    <DIR>          .\n",
      "11-07-2019  14:55    <DIR>          ..\n",
      "               0 File(s)              0 bytes\n",
      "               2 Dir(s)  50,206,855,168 bytes free\n"
     ]
    }
   ],
   "source": [
    "ls"
   ]
  },
  {
   "cell_type": "markdown",
   "metadata": {},
   "source": [
    "# creating multiple directories"
   ]
  },
  {
   "cell_type": "code",
   "execution_count": 52,
   "metadata": {},
   "outputs": [],
   "source": [
    "import os\n",
    "os.makedirs(\"2019/July/Day10\")`"
   ]
  },
  {
   "cell_type": "markdown",
   "metadata": {},
   "source": [
    "## filename pattern matching"
   ]
  },
  {
   "cell_type": "code",
   "execution_count": 1,
   "metadata": {},
   "outputs": [],
   "source": [
    "import os\n",
    "dirpath='git/'\n",
    "for f_name in os.listdir(dirpath):\n",
    "    if f_name.startswith('0'):\n",
    "        print(f_name) "
   ]
  },
  {
   "cell_type": "markdown",
   "metadata": {},
   "source": [
    "### deleting files and directories"
   ]
  },
  {
   "cell_type": "code",
   "execution_count": null,
   "metadata": {},
   "outputs": [],
   "source": [
    "import os\n",
    "data_file='file.txt'   #gives the entire path\n",
    "os.remove(dat_file)"
   ]
  },
  {
   "cell_type": "code",
   "execution_count": null,
   "metadata": {},
   "outputs": [],
   "source": [
    "import shuitl    #delete the tree of strucutre of folder\n",
    "data_dir='2019'\n",
    "shutil.return(dat_dir)"
   ]
  },
  {
   "cell_type": "markdown",
   "metadata": {},
   "source": [
    "## regular expressions\n",
    "- ! used to specific pattern matching\n",
    "- ! symbolic notations of pattern\n",
    "- pattren(RE):-represents set of elements\n",
    "[0-9]: any digits"
   ]
  }
 ],
 "metadata": {
  "kernelspec": {
   "display_name": "Python 3",
   "language": "python",
   "name": "python3"
  },
  "language_info": {
   "codemirror_mode": {
    "name": "ipython",
    "version": 3
   },
   "file_extension": ".py",
   "mimetype": "text/x-python",
   "name": "python",
   "nbconvert_exporter": "python",
   "pygments_lexer": "ipython3",
   "version": "3.7.3"
  }
 },
 "nbformat": 4,
 "nbformat_minor": 2
}
