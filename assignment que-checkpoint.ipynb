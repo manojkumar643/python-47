{
 "cells": [
  {
   "cell_type": "code",
   "execution_count": 1,
   "metadata": {},
   "outputs": [
    {
     "name": "stdout",
     "output_type": "stream",
     "text": [
      "610 377 233 144 89 55 34 21 13 8 5 3 2 1 1 0 "
     ]
    }
   ],
   "source": [
    " # Python 3 Program to print Fibonacci \n",
    "# series in reverse order \n",
    "def reverseFibonacci(n): \n",
    "    a = [0] * n  # assigning first and second elements \n",
    "    a[0] = 0 \n",
    "    a[1] = 1 \n",
    "    for i in range(2, n):   \n",
    "        a[i] = a[i - 2] + a[i - 1]   # storing sum in the \n",
    "                                     # preceding location \n",
    "    for i in range(n - 1, -1 , -1):   \n",
    "        print(a[i],end=\" \") # printing array in \n",
    "                           # reverse order   \n",
    "n = 16 # Driver function \n",
    "reverseFibonacci(n)"
   ]
  },
  {
   "cell_type": "code",
   "execution_count": 2,
   "metadata": {},
   "outputs": [
    {
     "name": "stdout",
     "output_type": "stream",
     "text": [
      "1\n",
      "2\n",
      "4\n",
      "8\n",
      "16\n",
      "32\n",
      "64\n",
      "128\n",
      "256\n",
      "512\n"
     ]
    }
   ],
   "source": [
    "def twopow(n):\n",
    "    for i in range(n):\n",
    "       k=2**i\n",
    "       print(k)\n",
    "    return\n",
    "twopow(10)\n"
   ]
  },
  {
   "cell_type": "code",
   "execution_count": 5,
   "metadata": {},
   "outputs": [
    {
     "name": "stdout",
     "output_type": "stream",
     "text": [
      "1\n",
      "3\n",
      "9\n",
      "27\n",
      "81\n",
      "243\n",
      "729\n",
      "2187\n",
      "6561\n",
      "19683\n"
     ]
    }
   ],
   "source": [
    "def threepow(n):\n",
    "    for i in range(n):\n",
    "        k=3**i\n",
    "        print(k)\n",
    "    return\n",
    "threepow(10)"
   ]
  },
  {
   "cell_type": "code",
   "execution_count": 6,
   "metadata": {},
   "outputs": [
    {
     "name": "stdout",
     "output_type": "stream",
     "text": [
      "1 3 4 8 15 27 50 92 169 311 572 1052 "
     ]
    }
   ],
   "source": [
    "def ser(n):\n",
    "    a=[0]*n\n",
    "    a[0]=1\n",
    "    a[1]=3\n",
    "    a[2]=4\n",
    "    for i in range(3,n):\n",
    "        a[i]=a[i-3]+a[i-2]+a[i-1]\n",
    "    for x in range(0,n):     \n",
    "        print(a[x],end=\" \")\n",
    "    return \n",
    "ser(12)"
   ]
  },
  {
   "cell_type": "code",
   "execution_count": 8,
   "metadata": {},
   "outputs": [
    {
     "name": "stdout",
     "output_type": "stream",
     "text": [
      "1!+2!+3!+4!+5!+6!+7!+8!+9!+10!+11!+12!+"
     ]
    }
   ],
   "source": [
    "#individual digits factorial sum\n",
    "def sum(n):\n",
    "    for i in range(1,n+1):\n",
    "        fact=1\n",
    "        if i<=n:\n",
    "            print(i,end=\"!+\")\n",
    "    return \n",
    "sum(12)"
   ]
  },
  {
   "cell_type": "code",
   "execution_count": 9,
   "metadata": {},
   "outputs": [
    {
     "name": "stdout",
     "output_type": "stream",
     "text": [
      "a d\n",
      "b e\n",
      "c f\n",
      "d g\n"
     ]
    }
   ],
   "source": [
    "s1=(\"abcd\")\n",
    "s2=(\"defg\")\n",
    "for i in  range(len(s1)):\n",
    "  print(s1[i],s2[i])\n"
   ]
  },
  {
   "cell_type": "code",
   "execution_count": null,
   "metadata": {},
   "outputs": [],
   "source": []
  }
 ],
 "metadata": {
  "kernelspec": {
   "display_name": "Python 3",
   "language": "python",
   "name": "python3"
  },
  "language_info": {
   "codemirror_mode": {
    "name": "ipython",
    "version": 3
   },
   "file_extension": ".py",
   "mimetype": "text/x-python",
   "name": "python",
   "nbconvert_exporter": "python",
   "pygments_lexer": "ipython3",
   "version": "3.7.3"
  }
 },
 "nbformat": 4,
 "nbformat_minor": 2
}
